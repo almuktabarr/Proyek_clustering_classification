{
  "nbformat": 4,
  "nbformat_minor": 0,
  "metadata": {
    "colab": {
      "provenance": []
    },
    "kernelspec": {
      "name": "python3",
      "display_name": "Python 3"
    },
    "language_info": {
      "name": "python"
    }
  },
  "cells": [
    {
      "cell_type": "markdown",
      "source": [
        "# **1. Import Library**"
      ],
      "metadata": {
        "id": "fKADPWcFKlj3"
      }
    },
    {
      "cell_type": "markdown",
      "source": [
        "Pada tahap ini, Anda perlu mengimpor beberapa pustaka (library) Python yang dibutuhkan untuk analisis data dan pembangunan model machine learning."
      ],
      "metadata": {
        "id": "LgA3ERnVn84N"
      }
    },
    {
      "cell_type": "code",
      "source": [
        "from google.colab import drive\n",
        "drive.mount('/content/drive')\n",
        "\n",
        "import pandas as pd\n",
        "import numpy as np\n",
        "import seaborn as sns\n",
        "import matplotlib.pyplot as plt\n",
        "from sklearn.preprocessing import LabelEncoder\n",
        "from sklearn.linear_model import LogisticRegression\n",
        "from sklearn.tree import DecisionTreeClassifier\n",
        "from sklearn.model_selection import train_test_split, RandomizedSearchCV\n",
        "from sklearn.metrics import accuracy_score, precision_score, recall_score, f1_score\n",
        "from sklearn.model_selection import KFold, cross_val_score\n",
        "from sklearn.metrics import confusion_matrix\n",
        "\n",
        "import warnings\n",
        "warnings.filterwarnings('ignore')"
      ],
      "metadata": {
        "id": "BlmvjLY9M4Yj",
        "outputId": "9c0b0a81-d4d8-4834-e5e8-d64269e7d87f",
        "colab": {
          "base_uri": "https://localhost:8080/"
        }
      },
      "execution_count": 1,
      "outputs": [
        {
          "output_type": "stream",
          "name": "stdout",
          "text": [
            "Drive already mounted at /content/drive; to attempt to forcibly remount, call drive.mount(\"/content/drive\", force_remount=True).\n"
          ]
        }
      ]
    },
    {
      "cell_type": "markdown",
      "source": [
        "# **2. Memuat Dataset dari Hasil Clustering**"
      ],
      "metadata": {
        "id": "f3YIEnAFKrKL"
      }
    },
    {
      "cell_type": "markdown",
      "source": [
        "Memuat dataset hasil clustering dari file CSV ke dalam variabel DataFrame."
      ],
      "metadata": {
        "id": "Ey3ItwTen_7E"
      }
    },
    {
      "cell_type": "code",
      "source": [
        "df_cluster = pd.read_csv('/content/drive/MyDrive/Dataset/Kesejahteraan Pekerja/clustering.csv')\n",
        "\n",
        "df_cluster"
      ],
      "metadata": {
        "id": "GHCGNTyrM5fS",
        "outputId": "3265b38f-5f02-456e-ca29-70c64ce71579",
        "colab": {
          "base_uri": "https://localhost:8080/",
          "height": 423
        }
      },
      "execution_count": 2,
      "outputs": [
        {
          "output_type": "execute_result",
          "data": {
            "text/plain": [
              "            gk        ump       peng    jenis              daerah  Cluster\n",
              "0     293697.0  1900000.0   466355.0  MAKANAN           PERKOTAAN        0\n",
              "1     302128.0  1900000.0   466355.0  MAKANAN           PERKOTAAN        0\n",
              "2     306243.0  2118500.0   548853.0  MAKANAN           PERKOTAAN        0\n",
              "3     319768.0  2118500.0   548853.0  MAKANAN           PERKOTAAN        0\n",
              "4     297479.0  1900000.0   395136.0  MAKANAN           PERDESAAN        0\n",
              "...        ...        ...        ...      ...                 ...      ...\n",
              "4987  513170.0  2729463.0  1028896.0    TOTAL           PERDESAAN        2\n",
              "4988  472525.0  2684743.0  1264589.0    TOTAL  PERDESAANPERKOTAAN        2\n",
              "4989  486168.0  2684743.0  1264589.0    TOTAL  PERDESAANPERKOTAAN        2\n",
              "4990  505468.0  2729463.0  1327782.0    TOTAL  PERDESAANPERKOTAAN        2\n",
              "4991  535547.0  2729463.0  1327782.0    TOTAL  PERDESAANPERKOTAAN        2\n",
              "\n",
              "[4992 rows x 6 columns]"
            ],
            "text/html": [
              "\n",
              "  <div id=\"df-c17a00ef-56b0-4096-9f4f-1223654be8eb\" class=\"colab-df-container\">\n",
              "    <div>\n",
              "<style scoped>\n",
              "    .dataframe tbody tr th:only-of-type {\n",
              "        vertical-align: middle;\n",
              "    }\n",
              "\n",
              "    .dataframe tbody tr th {\n",
              "        vertical-align: top;\n",
              "    }\n",
              "\n",
              "    .dataframe thead th {\n",
              "        text-align: right;\n",
              "    }\n",
              "</style>\n",
              "<table border=\"1\" class=\"dataframe\">\n",
              "  <thead>\n",
              "    <tr style=\"text-align: right;\">\n",
              "      <th></th>\n",
              "      <th>gk</th>\n",
              "      <th>ump</th>\n",
              "      <th>peng</th>\n",
              "      <th>jenis</th>\n",
              "      <th>daerah</th>\n",
              "      <th>Cluster</th>\n",
              "    </tr>\n",
              "  </thead>\n",
              "  <tbody>\n",
              "    <tr>\n",
              "      <th>0</th>\n",
              "      <td>293697.0</td>\n",
              "      <td>1900000.0</td>\n",
              "      <td>466355.0</td>\n",
              "      <td>MAKANAN</td>\n",
              "      <td>PERKOTAAN</td>\n",
              "      <td>0</td>\n",
              "    </tr>\n",
              "    <tr>\n",
              "      <th>1</th>\n",
              "      <td>302128.0</td>\n",
              "      <td>1900000.0</td>\n",
              "      <td>466355.0</td>\n",
              "      <td>MAKANAN</td>\n",
              "      <td>PERKOTAAN</td>\n",
              "      <td>0</td>\n",
              "    </tr>\n",
              "    <tr>\n",
              "      <th>2</th>\n",
              "      <td>306243.0</td>\n",
              "      <td>2118500.0</td>\n",
              "      <td>548853.0</td>\n",
              "      <td>MAKANAN</td>\n",
              "      <td>PERKOTAAN</td>\n",
              "      <td>0</td>\n",
              "    </tr>\n",
              "    <tr>\n",
              "      <th>3</th>\n",
              "      <td>319768.0</td>\n",
              "      <td>2118500.0</td>\n",
              "      <td>548853.0</td>\n",
              "      <td>MAKANAN</td>\n",
              "      <td>PERKOTAAN</td>\n",
              "      <td>0</td>\n",
              "    </tr>\n",
              "    <tr>\n",
              "      <th>4</th>\n",
              "      <td>297479.0</td>\n",
              "      <td>1900000.0</td>\n",
              "      <td>395136.0</td>\n",
              "      <td>MAKANAN</td>\n",
              "      <td>PERDESAAN</td>\n",
              "      <td>0</td>\n",
              "    </tr>\n",
              "    <tr>\n",
              "      <th>...</th>\n",
              "      <td>...</td>\n",
              "      <td>...</td>\n",
              "      <td>...</td>\n",
              "      <td>...</td>\n",
              "      <td>...</td>\n",
              "      <td>...</td>\n",
              "    </tr>\n",
              "    <tr>\n",
              "      <th>4987</th>\n",
              "      <td>513170.0</td>\n",
              "      <td>2729463.0</td>\n",
              "      <td>1028896.0</td>\n",
              "      <td>TOTAL</td>\n",
              "      <td>PERDESAAN</td>\n",
              "      <td>2</td>\n",
              "    </tr>\n",
              "    <tr>\n",
              "      <th>4988</th>\n",
              "      <td>472525.0</td>\n",
              "      <td>2684743.0</td>\n",
              "      <td>1264589.0</td>\n",
              "      <td>TOTAL</td>\n",
              "      <td>PERDESAANPERKOTAAN</td>\n",
              "      <td>2</td>\n",
              "    </tr>\n",
              "    <tr>\n",
              "      <th>4989</th>\n",
              "      <td>486168.0</td>\n",
              "      <td>2684743.0</td>\n",
              "      <td>1264589.0</td>\n",
              "      <td>TOTAL</td>\n",
              "      <td>PERDESAANPERKOTAAN</td>\n",
              "      <td>2</td>\n",
              "    </tr>\n",
              "    <tr>\n",
              "      <th>4990</th>\n",
              "      <td>505468.0</td>\n",
              "      <td>2729463.0</td>\n",
              "      <td>1327782.0</td>\n",
              "      <td>TOTAL</td>\n",
              "      <td>PERDESAANPERKOTAAN</td>\n",
              "      <td>2</td>\n",
              "    </tr>\n",
              "    <tr>\n",
              "      <th>4991</th>\n",
              "      <td>535547.0</td>\n",
              "      <td>2729463.0</td>\n",
              "      <td>1327782.0</td>\n",
              "      <td>TOTAL</td>\n",
              "      <td>PERDESAANPERKOTAAN</td>\n",
              "      <td>2</td>\n",
              "    </tr>\n",
              "  </tbody>\n",
              "</table>\n",
              "<p>4992 rows × 6 columns</p>\n",
              "</div>\n",
              "    <div class=\"colab-df-buttons\">\n",
              "\n",
              "  <div class=\"colab-df-container\">\n",
              "    <button class=\"colab-df-convert\" onclick=\"convertToInteractive('df-c17a00ef-56b0-4096-9f4f-1223654be8eb')\"\n",
              "            title=\"Convert this dataframe to an interactive table.\"\n",
              "            style=\"display:none;\">\n",
              "\n",
              "  <svg xmlns=\"http://www.w3.org/2000/svg\" height=\"24px\" viewBox=\"0 -960 960 960\">\n",
              "    <path d=\"M120-120v-720h720v720H120Zm60-500h600v-160H180v160Zm220 220h160v-160H400v160Zm0 220h160v-160H400v160ZM180-400h160v-160H180v160Zm440 0h160v-160H620v160ZM180-180h160v-160H180v160Zm440 0h160v-160H620v160Z\"/>\n",
              "  </svg>\n",
              "    </button>\n",
              "\n",
              "  <style>\n",
              "    .colab-df-container {\n",
              "      display:flex;\n",
              "      gap: 12px;\n",
              "    }\n",
              "\n",
              "    .colab-df-convert {\n",
              "      background-color: #E8F0FE;\n",
              "      border: none;\n",
              "      border-radius: 50%;\n",
              "      cursor: pointer;\n",
              "      display: none;\n",
              "      fill: #1967D2;\n",
              "      height: 32px;\n",
              "      padding: 0 0 0 0;\n",
              "      width: 32px;\n",
              "    }\n",
              "\n",
              "    .colab-df-convert:hover {\n",
              "      background-color: #E2EBFA;\n",
              "      box-shadow: 0px 1px 2px rgba(60, 64, 67, 0.3), 0px 1px 3px 1px rgba(60, 64, 67, 0.15);\n",
              "      fill: #174EA6;\n",
              "    }\n",
              "\n",
              "    .colab-df-buttons div {\n",
              "      margin-bottom: 4px;\n",
              "    }\n",
              "\n",
              "    [theme=dark] .colab-df-convert {\n",
              "      background-color: #3B4455;\n",
              "      fill: #D2E3FC;\n",
              "    }\n",
              "\n",
              "    [theme=dark] .colab-df-convert:hover {\n",
              "      background-color: #434B5C;\n",
              "      box-shadow: 0px 1px 3px 1px rgba(0, 0, 0, 0.15);\n",
              "      filter: drop-shadow(0px 1px 2px rgba(0, 0, 0, 0.3));\n",
              "      fill: #FFFFFF;\n",
              "    }\n",
              "  </style>\n",
              "\n",
              "    <script>\n",
              "      const buttonEl =\n",
              "        document.querySelector('#df-c17a00ef-56b0-4096-9f4f-1223654be8eb button.colab-df-convert');\n",
              "      buttonEl.style.display =\n",
              "        google.colab.kernel.accessAllowed ? 'block' : 'none';\n",
              "\n",
              "      async function convertToInteractive(key) {\n",
              "        const element = document.querySelector('#df-c17a00ef-56b0-4096-9f4f-1223654be8eb');\n",
              "        const dataTable =\n",
              "          await google.colab.kernel.invokeFunction('convertToInteractive',\n",
              "                                                    [key], {});\n",
              "        if (!dataTable) return;\n",
              "\n",
              "        const docLinkHtml = 'Like what you see? Visit the ' +\n",
              "          '<a target=\"_blank\" href=https://colab.research.google.com/notebooks/data_table.ipynb>data table notebook</a>'\n",
              "          + ' to learn more about interactive tables.';\n",
              "        element.innerHTML = '';\n",
              "        dataTable['output_type'] = 'display_data';\n",
              "        await google.colab.output.renderOutput(dataTable, element);\n",
              "        const docLink = document.createElement('div');\n",
              "        docLink.innerHTML = docLinkHtml;\n",
              "        element.appendChild(docLink);\n",
              "      }\n",
              "    </script>\n",
              "  </div>\n",
              "\n",
              "\n",
              "<div id=\"df-c26ba498-7563-4913-8296-32b480d88105\">\n",
              "  <button class=\"colab-df-quickchart\" onclick=\"quickchart('df-c26ba498-7563-4913-8296-32b480d88105')\"\n",
              "            title=\"Suggest charts\"\n",
              "            style=\"display:none;\">\n",
              "\n",
              "<svg xmlns=\"http://www.w3.org/2000/svg\" height=\"24px\"viewBox=\"0 0 24 24\"\n",
              "     width=\"24px\">\n",
              "    <g>\n",
              "        <path d=\"M19 3H5c-1.1 0-2 .9-2 2v14c0 1.1.9 2 2 2h14c1.1 0 2-.9 2-2V5c0-1.1-.9-2-2-2zM9 17H7v-7h2v7zm4 0h-2V7h2v10zm4 0h-2v-4h2v4z\"/>\n",
              "    </g>\n",
              "</svg>\n",
              "  </button>\n",
              "\n",
              "<style>\n",
              "  .colab-df-quickchart {\n",
              "      --bg-color: #E8F0FE;\n",
              "      --fill-color: #1967D2;\n",
              "      --hover-bg-color: #E2EBFA;\n",
              "      --hover-fill-color: #174EA6;\n",
              "      --disabled-fill-color: #AAA;\n",
              "      --disabled-bg-color: #DDD;\n",
              "  }\n",
              "\n",
              "  [theme=dark] .colab-df-quickchart {\n",
              "      --bg-color: #3B4455;\n",
              "      --fill-color: #D2E3FC;\n",
              "      --hover-bg-color: #434B5C;\n",
              "      --hover-fill-color: #FFFFFF;\n",
              "      --disabled-bg-color: #3B4455;\n",
              "      --disabled-fill-color: #666;\n",
              "  }\n",
              "\n",
              "  .colab-df-quickchart {\n",
              "    background-color: var(--bg-color);\n",
              "    border: none;\n",
              "    border-radius: 50%;\n",
              "    cursor: pointer;\n",
              "    display: none;\n",
              "    fill: var(--fill-color);\n",
              "    height: 32px;\n",
              "    padding: 0;\n",
              "    width: 32px;\n",
              "  }\n",
              "\n",
              "  .colab-df-quickchart:hover {\n",
              "    background-color: var(--hover-bg-color);\n",
              "    box-shadow: 0 1px 2px rgba(60, 64, 67, 0.3), 0 1px 3px 1px rgba(60, 64, 67, 0.15);\n",
              "    fill: var(--button-hover-fill-color);\n",
              "  }\n",
              "\n",
              "  .colab-df-quickchart-complete:disabled,\n",
              "  .colab-df-quickchart-complete:disabled:hover {\n",
              "    background-color: var(--disabled-bg-color);\n",
              "    fill: var(--disabled-fill-color);\n",
              "    box-shadow: none;\n",
              "  }\n",
              "\n",
              "  .colab-df-spinner {\n",
              "    border: 2px solid var(--fill-color);\n",
              "    border-color: transparent;\n",
              "    border-bottom-color: var(--fill-color);\n",
              "    animation:\n",
              "      spin 1s steps(1) infinite;\n",
              "  }\n",
              "\n",
              "  @keyframes spin {\n",
              "    0% {\n",
              "      border-color: transparent;\n",
              "      border-bottom-color: var(--fill-color);\n",
              "      border-left-color: var(--fill-color);\n",
              "    }\n",
              "    20% {\n",
              "      border-color: transparent;\n",
              "      border-left-color: var(--fill-color);\n",
              "      border-top-color: var(--fill-color);\n",
              "    }\n",
              "    30% {\n",
              "      border-color: transparent;\n",
              "      border-left-color: var(--fill-color);\n",
              "      border-top-color: var(--fill-color);\n",
              "      border-right-color: var(--fill-color);\n",
              "    }\n",
              "    40% {\n",
              "      border-color: transparent;\n",
              "      border-right-color: var(--fill-color);\n",
              "      border-top-color: var(--fill-color);\n",
              "    }\n",
              "    60% {\n",
              "      border-color: transparent;\n",
              "      border-right-color: var(--fill-color);\n",
              "    }\n",
              "    80% {\n",
              "      border-color: transparent;\n",
              "      border-right-color: var(--fill-color);\n",
              "      border-bottom-color: var(--fill-color);\n",
              "    }\n",
              "    90% {\n",
              "      border-color: transparent;\n",
              "      border-bottom-color: var(--fill-color);\n",
              "    }\n",
              "  }\n",
              "</style>\n",
              "\n",
              "  <script>\n",
              "    async function quickchart(key) {\n",
              "      const quickchartButtonEl =\n",
              "        document.querySelector('#' + key + ' button');\n",
              "      quickchartButtonEl.disabled = true;  // To prevent multiple clicks.\n",
              "      quickchartButtonEl.classList.add('colab-df-spinner');\n",
              "      try {\n",
              "        const charts = await google.colab.kernel.invokeFunction(\n",
              "            'suggestCharts', [key], {});\n",
              "      } catch (error) {\n",
              "        console.error('Error during call to suggestCharts:', error);\n",
              "      }\n",
              "      quickchartButtonEl.classList.remove('colab-df-spinner');\n",
              "      quickchartButtonEl.classList.add('colab-df-quickchart-complete');\n",
              "    }\n",
              "    (() => {\n",
              "      let quickchartButtonEl =\n",
              "        document.querySelector('#df-c26ba498-7563-4913-8296-32b480d88105 button');\n",
              "      quickchartButtonEl.style.display =\n",
              "        google.colab.kernel.accessAllowed ? 'block' : 'none';\n",
              "    })();\n",
              "  </script>\n",
              "</div>\n",
              "\n",
              "  <div id=\"id_123a9875-af08-486a-a67d-ee0da4d905ba\">\n",
              "    <style>\n",
              "      .colab-df-generate {\n",
              "        background-color: #E8F0FE;\n",
              "        border: none;\n",
              "        border-radius: 50%;\n",
              "        cursor: pointer;\n",
              "        display: none;\n",
              "        fill: #1967D2;\n",
              "        height: 32px;\n",
              "        padding: 0 0 0 0;\n",
              "        width: 32px;\n",
              "      }\n",
              "\n",
              "      .colab-df-generate:hover {\n",
              "        background-color: #E2EBFA;\n",
              "        box-shadow: 0px 1px 2px rgba(60, 64, 67, 0.3), 0px 1px 3px 1px rgba(60, 64, 67, 0.15);\n",
              "        fill: #174EA6;\n",
              "      }\n",
              "\n",
              "      [theme=dark] .colab-df-generate {\n",
              "        background-color: #3B4455;\n",
              "        fill: #D2E3FC;\n",
              "      }\n",
              "\n",
              "      [theme=dark] .colab-df-generate:hover {\n",
              "        background-color: #434B5C;\n",
              "        box-shadow: 0px 1px 3px 1px rgba(0, 0, 0, 0.15);\n",
              "        filter: drop-shadow(0px 1px 2px rgba(0, 0, 0, 0.3));\n",
              "        fill: #FFFFFF;\n",
              "      }\n",
              "    </style>\n",
              "    <button class=\"colab-df-generate\" onclick=\"generateWithVariable('df_cluster')\"\n",
              "            title=\"Generate code using this dataframe.\"\n",
              "            style=\"display:none;\">\n",
              "\n",
              "  <svg xmlns=\"http://www.w3.org/2000/svg\" height=\"24px\"viewBox=\"0 0 24 24\"\n",
              "       width=\"24px\">\n",
              "    <path d=\"M7,19H8.4L18.45,9,17,7.55,7,17.6ZM5,21V16.75L18.45,3.32a2,2,0,0,1,2.83,0l1.4,1.43a1.91,1.91,0,0,1,.58,1.4,1.91,1.91,0,0,1-.58,1.4L9.25,21ZM18.45,9,17,7.55Zm-12,3A5.31,5.31,0,0,0,4.9,8.1,5.31,5.31,0,0,0,1,6.5,5.31,5.31,0,0,0,4.9,4.9,5.31,5.31,0,0,0,6.5,1,5.31,5.31,0,0,0,8.1,4.9,5.31,5.31,0,0,0,12,6.5,5.46,5.46,0,0,0,6.5,12Z\"/>\n",
              "  </svg>\n",
              "    </button>\n",
              "    <script>\n",
              "      (() => {\n",
              "      const buttonEl =\n",
              "        document.querySelector('#id_123a9875-af08-486a-a67d-ee0da4d905ba button.colab-df-generate');\n",
              "      buttonEl.style.display =\n",
              "        google.colab.kernel.accessAllowed ? 'block' : 'none';\n",
              "\n",
              "      buttonEl.onclick = () => {\n",
              "        google.colab.notebook.generateWithVariable('df_cluster');\n",
              "      }\n",
              "      })();\n",
              "    </script>\n",
              "  </div>\n",
              "\n",
              "    </div>\n",
              "  </div>\n"
            ],
            "application/vnd.google.colaboratory.intrinsic+json": {
              "type": "dataframe",
              "variable_name": "df_cluster",
              "summary": "{\n  \"name\": \"df_cluster\",\n  \"rows\": 4992,\n  \"fields\": [\n    {\n      \"column\": \"gk\",\n      \"properties\": {\n        \"dtype\": \"number\",\n        \"std\": 161715.78923027372,\n        \"min\": 48561.0,\n        \"max\": 827265.25,\n        \"num_unique_values\": 4923,\n        \"samples\": [\n          161294.0,\n          472525.0,\n          105097.0\n        ],\n        \"semantic_type\": \"\",\n        \"description\": \"\"\n      }\n    },\n    {\n      \"column\": \"ump\",\n      \"properties\": {\n        \"dtype\": \"number\",\n        \"std\": 573390.8379441586,\n        \"min\": 910000.0,\n        \"max\": 3884657.5,\n        \"num_unique_values\": 244,\n        \"samples\": [\n          2464154.0,\n          3166460.0,\n          2454671.0\n        ],\n        \"semantic_type\": \"\",\n        \"description\": \"\"\n      }\n    },\n    {\n      \"column\": \"peng\",\n      \"properties\": {\n        \"dtype\": \"number\",\n        \"std\": 337629.95654713875,\n        \"min\": 176028.0,\n        \"max\": 1612827.25,\n        \"num_unique_values\": 2418,\n        \"samples\": [\n          731429.0,\n          904159.0,\n          582727.0\n        ],\n        \"semantic_type\": \"\",\n        \"description\": \"\"\n      }\n    },\n    {\n      \"column\": \"jenis\",\n      \"properties\": {\n        \"dtype\": \"category\",\n        \"num_unique_values\": 3,\n        \"samples\": [\n          \"MAKANAN\",\n          \"NONMAKANAN\",\n          \"TOTAL\"\n        ],\n        \"semantic_type\": \"\",\n        \"description\": \"\"\n      }\n    },\n    {\n      \"column\": \"daerah\",\n      \"properties\": {\n        \"dtype\": \"category\",\n        \"num_unique_values\": 3,\n        \"samples\": [\n          \"PERKOTAAN\",\n          \"PERDESAAN\",\n          \"PERDESAANPERKOTAAN\"\n        ],\n        \"semantic_type\": \"\",\n        \"description\": \"\"\n      }\n    },\n    {\n      \"column\": \"Cluster\",\n      \"properties\": {\n        \"dtype\": \"number\",\n        \"std\": 0,\n        \"min\": 0,\n        \"max\": 2,\n        \"num_unique_values\": 3,\n        \"samples\": [\n          0,\n          1,\n          2\n        ],\n        \"semantic_type\": \"\",\n        \"description\": \"\"\n      }\n    }\n  ]\n}"
            }
          },
          "metadata": {},
          "execution_count": 2
        }
      ]
    },
    {
      "cell_type": "markdown",
      "source": [
        "encoding"
      ],
      "metadata": {
        "id": "YKhhvMaIyyDg"
      }
    },
    {
      "cell_type": "code",
      "source": [
        "#Mengubah data categorical menjadi numerik menggunakan label encoding\n",
        "Lbl = LabelEncoder()\n",
        "categorical_columns = [column for column in df_cluster.columns if df_cluster[column].dtype == \"O\"]\n",
        "\n",
        "mapping_dict = {}\n",
        "\n",
        "for column in categorical_columns:\n",
        "    df_cluster[column] = Lbl.fit_transform(df_cluster[column])\n",
        "    unique_values = list(Lbl.classes_)\n",
        "    transformed_values = list(range(len(unique_values)))\n",
        "    mapping_dict[column] = dict(zip(transformed_values, unique_values))\n",
        "\n",
        "for column, mapping in mapping_dict.items():\n",
        "    print(f\"\\nMapping untuk kolom '{column}':\")\n",
        "    for transformed, original in mapping.items():\n",
        "        print(f\"{transformed} -> {original}\")"
      ],
      "metadata": {
        "id": "-i_w5thSyxwi",
        "colab": {
          "base_uri": "https://localhost:8080/"
        },
        "outputId": "d7a73d40-5325-469d-ac26-80a589fd93ec"
      },
      "execution_count": 3,
      "outputs": [
        {
          "output_type": "stream",
          "name": "stdout",
          "text": [
            "\n",
            "Mapping untuk kolom 'jenis':\n",
            "0 -> MAKANAN\n",
            "1 -> NONMAKANAN\n",
            "2 -> TOTAL\n",
            "\n",
            "Mapping untuk kolom 'daerah':\n",
            "0 -> PERDESAAN\n",
            "1 -> PERDESAANPERKOTAAN\n",
            "2 -> PERKOTAAN\n"
          ]
        }
      ]
    },
    {
      "cell_type": "code",
      "source": [
        "#Visualisasi korelasi hubungan antar kolom dataset\n",
        "plt.figure(figsize=(20,10))\n",
        "sns.heatmap(df_cluster.corr(),annot=True,cmap=\"coolwarm\")"
      ],
      "metadata": {
        "colab": {
          "base_uri": "https://localhost:8080/",
          "height": 854
        },
        "id": "LgOggJ6krU5n",
        "outputId": "c759ebab-4e47-42d0-f5e4-e31329236435"
      },
      "execution_count": 4,
      "outputs": [
        {
          "output_type": "execute_result",
          "data": {
            "text/plain": [
              "<Axes: >"
            ]
          },
          "metadata": {},
          "execution_count": 4
        },
        {
          "output_type": "display_data",
          "data": {
            "text/plain": [
              "<Figure size 2000x1000 with 2 Axes>"
            ],
            "image/png": "[encoded data removed]"
          },
          "metadata": {}
        }
      ]
    },
    {
      "cell_type": "markdown",
      "source": [
        "# **3. Data Splitting**"
      ],
      "metadata": {
        "id": "KkPem5eWL2UP"
      }
    },
    {
      "cell_type": "markdown",
      "source": [
        "Tahap Data Splitting bertujuan untuk memisahkan dataset menjadi dua bagian: data latih (training set) dan data uji (test set)."
      ],
      "metadata": {
        "id": "YYj1rl_JNI9Y"
      }
    },
    {
      "cell_type": "code",
      "source": [
        "#Memisahkan antara kolom fitur(X) dan kolom label(y)\n",
        "X = df_cluster.copy().drop(columns = 'Cluster')\n",
        "y = df_cluster['Cluster']"
      ],
      "metadata": {
        "id": "OubAW-7ONKVj"
      },
      "execution_count": 5,
      "outputs": []
    },
    {
      "cell_type": "code",
      "source": [
        "#Membagi data pelatihan dan pengujian (80:20)\n",
        "X_train, X_test, y_train, y_test = train_test_split(X, y, test_size=0.2, random_state = 42)"
      ],
      "metadata": {
        "id": "HbBzF36FkzBJ"
      },
      "execution_count": 6,
      "outputs": []
    },
    {
      "cell_type": "markdown",
      "source": [
        "# **4. Membangun Model Klasifikasi**\n"
      ],
      "metadata": {
        "id": "IVPbB03CMhTT"
      }
    },
    {
      "cell_type": "markdown",
      "source": [
        "## **a. Membangun Model Klasifikasi**"
      ],
      "metadata": {
        "id": "Ned1pL9zMmBK"
      }
    },
    {
      "cell_type": "markdown",
      "source": [
        "Setelah memilih algoritma klasifikasi yang sesuai, langkah selanjutnya adalah melatih model menggunakan data latih.\n",
        "\n",
        "Berikut adalah rekomendasi tahapannya.\n",
        "1. Pilih algoritma klasifikasi yang sesuai, seperti Logistic Regression, Decision Tree, Random Forest, atau K-Nearest Neighbors (KNN).\n",
        "2. Latih model menggunakan data latih."
      ],
      "metadata": {
        "id": "WAWzPOE4Nkti"
      }
    },
    {
      "cell_type": "code",
      "source": [
        "# Logistic Regression\n",
        "lr_model = LogisticRegression(max_iter=100)\n",
        "lr_model = lr_model.fit(X_train, y_train)\n",
        "lr_pred = lr_model.predict(X_test)"
      ],
      "metadata": {
        "id": "f6mjCHaB-G2-"
      },
      "execution_count": 7,
      "outputs": []
    },
    {
      "cell_type": "code",
      "source": [
        "# Decision Tree\n",
        "dt_model = DecisionTreeClassifier(random_state=42)\n",
        "dt_model = dt_model.fit(X_train, y_train)\n",
        "dt_pred = dt_model.predict(X_test)"
      ],
      "metadata": {
        "id": "fzDzRS8ulBtH"
      },
      "execution_count": 8,
      "outputs": []
    },
    {
      "cell_type": "markdown",
      "source": [
        "Pada tahap klasifikasi saya memilih algoritma Logistic Regression dan Decision Tree karena kedua algoritma ini dapat memberikan hasil yang efisien untuk dataset yang saya gunakan dimana Logistic Regression bekerja dengan probabilitas berdasarkan garis pemisah linear sedangkan Decision Tree membagi data dengan memanfaatkan struktur pohon untuk menangani hubungan non-linear"
      ],
      "metadata": {
        "id": "seYoHNY3XU1y"
      }
    },
    {
      "cell_type": "markdown",
      "source": [
        "## **b. Evaluasi Model Klasifikasi**"
      ],
      "metadata": {
        "id": "ergzChZFEL-O"
      }
    },
    {
      "cell_type": "markdown",
      "source": [
        "Berikut adalah **rekomendasi** tahapannya.\n",
        "1. Lakukan prediksi menggunakan data uji.\n",
        "2. Hitung metrik evaluasi seperti Accuracy dan F1-Score (Opsional: Precision dan Recall).\n",
        "3. Buat confusion matrix untuk melihat detail prediksi benar dan salah."
      ],
      "metadata": {
        "id": "zOm68u-7NpLT"
      }
    },
    {
      "cell_type": "code",
      "source": [
        "#Evaluasi hasil skor pelatihan dan pengujian pada model\n",
        "def print_score(model, X_train, y_train, X_test, y_test, model_name):\n",
        "    score_train = model.score(X_train, y_train)\n",
        "    score_test = model.score(X_test, y_test)\n",
        "\n",
        "    print(f\"{model_name} Score:\")\n",
        "    print(f\"Train Score : {score_train}\")\n",
        "    print(f\"Test Score : {score_test}\\n\")\n",
        "\n",
        "print_score(lr_model, X_train, y_train, X_test, y_test, 'Logistic Regression')\n",
        "print_score(dt_model, X_train, y_train, X_test, y_test, 'Decision Tree')"
      ],
      "metadata": {
        "id": "tMq4QAssNLip",
        "colab": {
          "base_uri": "https://localhost:8080/"
        },
        "outputId": "9a4b9326-cf86-47e3-f494-00655c04ffe7"
      },
      "execution_count": 9,
      "outputs": [
        {
          "output_type": "stream",
          "name": "stdout",
          "text": [
            "Logistic Regression Score:\n",
            "Train Score : 0.9629351364888555\n",
            "Test Score : 0.96996996996997\n",
            "\n",
            "Decision Tree Score:\n",
            "Train Score : 1.0\n",
            "Test Score : 1.0\n",
            "\n"
          ]
        }
      ]
    },
    {
      "cell_type": "code",
      "source": [
        "# Menghitung nilai metrik evaluasi dengan menampilkan skor akurasi, presisi, recall, dan F1-score\n",
        "def print_metrics(y_true, y_pred, model_name):\n",
        "    accuracy = accuracy_score(y_true, y_pred)\n",
        "    precision = precision_score(y_true, y_pred, average='weighted')\n",
        "    recall = recall_score(y_true, y_pred, average='weighted')\n",
        "    f1 = f1_score(y_true, y_pred, average='weighted')\n",
        "\n",
        "    # Menampilkan hasil evaluasi\n",
        "    print(f\"Metrics Evaluasi {model_name}:\")\n",
        "    print(f\"Akurasi    : {accuracy:.3f}\")\n",
        "    print(f\"Presisi    : {precision:.3f}\")\n",
        "    print(f\"Recall     : {recall:.3f}\")\n",
        "    print(f\"F1-Score   : {f1:.3f}\\n\")\n",
        "\n",
        "# Menampilkan metrik evaluasi untuk masing-masing model\n",
        "print_metrics(y_test, lr_pred, \"Logistic Regression\")\n",
        "print_metrics(y_test, dt_pred, \"Decision Tree\")"
      ],
      "metadata": {
        "colab": {
          "base_uri": "https://localhost:8080/"
        },
        "id": "-MYzc2grBDt3",
        "outputId": "6a51709a-0579-464c-afab-c53cb61c0602"
      },
      "execution_count": 10,
      "outputs": [
        {
          "output_type": "stream",
          "name": "stdout",
          "text": [
            "Metrics Evaluasi Logistic Regression:\n",
            "Akurasi    : 0.970\n",
            "Presisi    : 0.970\n",
            "Recall     : 0.970\n",
            "F1-Score   : 0.970\n",
            "\n",
            "Metrics Evaluasi Decision Tree:\n",
            "Akurasi    : 1.000\n",
            "Presisi    : 1.000\n",
            "Recall     : 1.000\n",
            "F1-Score   : 1.000\n",
            "\n"
          ]
        }
      ]
    },
    {
      "cell_type": "code",
      "source": [
        "# Membuat confusion matrix untuk setiap model\n",
        "conf_matrix_lr = confusion_matrix(y_test, lr_pred)\n",
        "conf_matrix_dt = confusion_matrix(y_test, dt_pred)\n",
        "\n",
        "# Visualisasi menggunakan heatmap\n",
        "plt.figure(figsize=(10, 8))\n",
        "\n",
        "plt.subplot(2, 2, 1)\n",
        "sns.heatmap(conf_matrix_lr, annot=True, fmt='d', cmap='Blues')\n",
        "plt.title(\"Confusion Matrix - Logistic Regression\")\n",
        "\n",
        "plt.subplot(2, 2, 3)\n",
        "sns.heatmap(conf_matrix_dt, annot=True, fmt='d', cmap='Blues')\n",
        "plt.title(\"Confusion Matrix - Decision Tree\")\n",
        "\n",
        "plt.tight_layout()\n",
        "plt.show()\n"
      ],
      "metadata": {
        "colab": {
          "base_uri": "https://localhost:8080/",
          "height": 807
        },
        "id": "zchlB_foBELg",
        "outputId": "5ce084d1-81c5-4483-c8ca-caa786e9c4c7"
      },
      "execution_count": 11,
      "outputs": [
        {
          "output_type": "display_data",
          "data": {
            "text/plain": [
              "<Figure size 1000x800 with 4 Axes>"
            ],
            "image/png": "[encoded data removed]"
          },
          "metadata": {}
        }
      ]
    },
    {
      "cell_type": "markdown",
      "source": [
        "Hasil evaluasi dari kedua algoritma menunjukkan hasil yang positif dimana model **Logistic Regression** mendapatkan performa 0.970 untuk skor akurasi, presisi, recall, dan F1-score sedangkan model **Decision Tree** mendapatkan performa yang sempurna 1.0 untuk skor akurasi, presisi, recall, dan F1-score. Jadi dapat dikatakan model sudah menghasilkan performa yang sangat baik walaupun belum dilakukan proses tuning"
      ],
      "metadata": {
        "id": "H4_9OwrsXZlz"
      }
    },
    {
      "cell_type": "code",
      "source": [
        "#K-Fold Cross Validation (5 fold)\n",
        "def print_kfold(model, X, y, model_name):\n",
        "    kf = KFold(n_splits=5, shuffle = True, random_state = 42)\n",
        "    accuracy_scores = cross_val_score(model, X, y, cv=kf, scoring='accuracy')\n",
        "    f1_scores = cross_val_score(model, X, y, cv=kf, scoring='f1_weighted')\n",
        "\n",
        "    mean_accuracy = np.mean(accuracy_scores)\n",
        "    mean_f1 = np.mean(f1_scores)\n",
        "\n",
        "    print(f\"Kfold {model_name}:\")\n",
        "    print(f\"Akurasi dari setiap fold : {accuracy_scores}\")\n",
        "    print(f\"Rata-rata Akurasi : {mean_accuracy:.3f}\")\n",
        "    print(f\"F1-Score dari setiap fold : {f1_scores}\")\n",
        "    print(f\"Rata-rata F1-Score : {mean_f1:.3f}\\n\")\n",
        "\n",
        "print_kfold(lr_model, X, y, 'Logistic Regresion')\n",
        "print_kfold(dt_model, X, y, 'Decision Tree')"
      ],
      "metadata": {
        "colab": {
          "base_uri": "https://localhost:8080/"
        },
        "id": "pCHx3cLKpob5",
        "outputId": "e28a9d6f-804d-4007-de0c-c5c5a733ade9"
      },
      "execution_count": 12,
      "outputs": [
        {
          "output_type": "stream",
          "name": "stdout",
          "text": [
            "Kfold Logistic Regresion:\n",
            "Akurasi dari setiap fold : [0.96996997 0.96196196 0.95791583 0.96693387 0.95991984]\n",
            "Rata-rata Akurasi : 0.963\n",
            "F1-Score dari setiap fold : [0.96997433 0.96196715 0.95796104 0.96695637 0.95993485]\n",
            "Rata-rata F1-Score : 0.963\n",
            "\n",
            "Kfold Decision Tree:\n",
            "Akurasi dari setiap fold : [1.         1.         0.99799599 1.         1.        ]\n",
            "Rata-rata Akurasi : 1.000\n",
            "F1-Score dari setiap fold : [1.         1.         0.99799635 1.         1.        ]\n",
            "Rata-rata F1-Score : 1.000\n",
            "\n"
          ]
        }
      ]
    },
    {
      "cell_type": "markdown",
      "source": [
        "Untuk memastikan model tidak overfitting saya melakukan evaluasi kembali menggunakan metode Kfold cross validation dengan nilai k=5 hasil evaluasi tersebut menunjukkan performa kedua model yang stabil dan tidak terlihat model overfitting atau underfitting. Kemudian dikarenakan performa model sudah sangat baik saya tidak melakukan proses tuning."
      ],
      "metadata": {
        "id": "d96LUB0fqky9"
      }
    },
    {
      "cell_type": "markdown",
      "source": [
        "## **c. Tuning Model Klasifikasi (Optional)**"
      ],
      "metadata": {
        "id": "ph9yIYDXEPuB"
      }
    },
    {
      "cell_type": "markdown",
      "source": [
        "Gunakan GridSearchCV, RandomizedSearchCV, atau metode lainnya untuk mencari kombinasi hyperparameter terbaik"
      ],
      "metadata": {
        "id": "-Bikx3LINv5e"
      }
    },
    {
      "cell_type": "code",
      "source": [
        "#Type your code here"
      ],
      "metadata": {
        "id": "winbFzb8NL95"
      },
      "execution_count": 13,
      "outputs": []
    },
    {
      "cell_type": "markdown",
      "source": [
        "## **d. Evaluasi Model Klasifikasi setelah Tuning (Optional)**"
      ],
      "metadata": {
        "id": "hE7pqlEPEYzI"
      }
    },
    {
      "cell_type": "markdown",
      "source": [
        "Berikut adalah rekomendasi tahapannya.\n",
        "1. Gunakan model dengan hyperparameter terbaik.\n",
        "2. Hitung ulang metrik evaluasi untuk melihat apakah ada peningkatan performa."
      ],
      "metadata": {
        "id": "feaPESoeN0zz"
      }
    },
    {
      "cell_type": "code",
      "source": [
        "#Type your code here"
      ],
      "metadata": {
        "id": "HTXZRvEeNMb1"
      },
      "execution_count": 14,
      "outputs": []
    },
    {
      "cell_type": "markdown",
      "source": [
        "## **e. Analisis Hasil Evaluasi Model Klasifikasi**"
      ],
      "metadata": {
        "id": "ZRsOdm4uEgAW"
      }
    },
    {
      "cell_type": "markdown",
      "source": [
        "Berikut adalah **rekomendasi** tahapannya.\n",
        "1. Bandingkan hasil evaluasi sebelum dan setelah tuning (jika dilakukan).\n",
        "2. Identifikasi kelemahan model, seperti:\n",
        "  - Precision atau Recall rendah untuk kelas tertentu.\n",
        "  - Apakah model mengalami overfitting atau underfitting?\n",
        "3. Berikan rekomendasi tindakan lanjutan, seperti mengumpulkan data tambahan atau mencoba algoritma lain jika hasil belum memuaskan."
      ],
      "metadata": {
        "id": "Hm3BhSi6N4_l"
      }
    },
    {
      "cell_type": "markdown",
      "source": [
        "Setelah dilakukan proses pelatihan dan evaluasi, hasil evaluasi pada kedua model (Logistic Regresion dan Decision Tree) menunjukkan performa yang sangat baik dimana model **Decision Tree** memiliki performa yang lebih unggul yaitu 1.0 pada setiap metric evaluasi (akurasi, presisi, recall, dan f1-score) dibandingkan **Logistic Regression** yang mendapatkan nilai 0.970 pada setiap metric evaluasi. Selanjutnya untuk memastikan apakah model mengalami overfitting dilakukan evaluasi kembali menggunakan metode kfold cross validation dengan k=5, evaluasi tersebut menunjukkan performa kedua model yang stabil pada setiap fold dataset dengan hasil model **Decision Tree** (1.0 rata-rata nilai akurasi dan f1-score) tetap mengungguli model **Logistic Regression** (0.963 rata-rata nilai akurasi dan f1-score). Rekomendasi lanjutan terkait dataset ini adalah menambahkan lebih banyak fitur yang relevan dan jumlah dataset agar model bisa menangkap pola yang lebih kompleks, mengurangi bias, dan meningkatkan kemampuan model dalam generalisasi data yang belum pernah dilihat sebelumnya."
      ],
      "metadata": {
        "id": "tqx-rLG_rHci"
      }
    }
  ]
}